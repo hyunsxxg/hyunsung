{
  "nbformat": 4,
  "nbformat_minor": 0,
  "metadata": {
    "colab": {
      "provenance": [],
      "authorship_tag": "ABX9TyM0skZi0uB4xlV9YxROL8xK",
      "include_colab_link": true
    },
    "kernelspec": {
      "name": "python3",
      "display_name": "Python 3"
    },
    "language_info": {
      "name": "python"
    }
  },
  "cells": [
    {
      "cell_type": "markdown",
      "metadata": {
        "id": "view-in-github",
        "colab_type": "text"
      },
      "source": [
        "<a href=\"https://colab.research.google.com/github/hyunsxxg/hyunsung/blob/main/Untitled4.ipynb\" target=\"_parent\"><img src=\"https://colab.research.google.com/assets/colab-badge.svg\" alt=\"Open In Colab\"/></a>"
      ]
    },
    {
      "cell_type": "code",
      "source": [
        "from IPython.utils.syspathcontext import appended_to_syspath\n",
        "student=[180, 170, 164, 199, 182, 172, 177]\n",
        "a=[]\n",
        "for i in student:\n",
        "    if i>=170 :\n",
        "      a.append(i)\n",
        "print(a)"
      ],
      "metadata": {
        "colab": {
          "base_uri": "https://localhost:8080/"
        },
        "id": "saV6b8ic_tl_",
        "outputId": "614bcaf0-a2e1-436c-bf04-1d7f62529601"
      },
      "execution_count": 36,
      "outputs": [
        {
          "output_type": "stream",
          "name": "stdout",
          "text": [
            "[180, 170, 199, 182, 172, 177]\n"
          ]
        }
      ]
    }
  ]
}