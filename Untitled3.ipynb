{
  "nbformat": 4,
  "nbformat_minor": 0,
  "metadata": {
    "colab": {
      "provenance": [],
      "authorship_tag": "ABX9TyPu53J5TeFFqRZM8eNdrhBI",
      "include_colab_link": true
    },
    "kernelspec": {
      "name": "python3",
      "display_name": "Python 3"
    },
    "language_info": {
      "name": "python"
    }
  },
  "cells": [
    {
      "cell_type": "markdown",
      "metadata": {
        "id": "view-in-github",
        "colab_type": "text"
      },
      "source": [
        "<a href=\"https://colab.research.google.com/github/hyunsxxg/hyunsung/blob/main/Untitled3.ipynb\" target=\"_parent\"><img src=\"https://colab.research.google.com/assets/colab-badge.svg\" alt=\"Open In Colab\"/></a>"
      ]
    },
    {
      "cell_type": "code",
      "execution_count": null,
      "metadata": {
        "id": "TN_KqapcxAIV"
      },
      "outputs": [],
      "source": [
        "def sumfc():\n",
        "  num = int(input(\"정수 입력: \"))\n",
        "  return num+200"
      ]
    },
    {
      "cell_type": "code",
      "source": [
        "a = int(input(\"A가 낸 값 입력(가위=1, 바위=2, 보=3): \"))\n",
        "b = int(input(\"B가 낸 값 입력(가위=1, 바위=2, 보=3): \"))\n",
        "if a-b ==1:\n",
        "  print(\"a가 이김\")\n",
        "elif a == b:\n",
        "  print(\"비김\")\n",
        "if b-a ==1:\n",
        "  print(\"b가 이김\")\n",
        "if a-b == 2:\n",
        "  print(\"b가 이김\")"
      ],
      "metadata": {
        "id": "EH0RYCSkz7rZ"
      },
      "execution_count": null,
      "outputs": []
    },
    {
      "cell_type": "code",
      "source": [],
      "metadata": {
        "id": "3JQLwJzryi-7"
      },
      "execution_count": 37,
      "outputs": []
    }
  ]
}