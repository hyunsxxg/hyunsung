{
  "nbformat": 4,
  "nbformat_minor": 0,
  "metadata": {
    "colab": {
      "provenance": [],
      "authorship_tag": "ABX9TyO9+T+2bxIZr8eA0yb+VSS7",
      "include_colab_link": true
    },
    "kernelspec": {
      "name": "python3",
      "display_name": "Python 3"
    },
    "language_info": {
      "name": "python"
    }
  },
  "cells": [
    {
      "cell_type": "markdown",
      "metadata": {
        "id": "view-in-github",
        "colab_type": "text"
      },
      "source": [
        "<a href=\"https://colab.research.google.com/github/hyunsxxg/hyunsung/blob/main/Untitled3.ipynb\" target=\"_parent\"><img src=\"https://colab.research.google.com/assets/colab-badge.svg\" alt=\"Open In Colab\"/></a>"
      ]
    },
    {
      "cell_type": "code",
      "execution_count": null,
      "metadata": {
        "id": "TN_KqapcxAIV"
      },
      "outputs": [],
      "source": [
        "def sumfc():\n",
        "  num = int(input(\"정수 입력: \"))\n",
        "  return num+200"
      ]
    },
    {
      "cell_type": "code",
      "source": [
        "a = int(input(\"A가 낸 값 입력: \"))\n",
        "b = int(input(\"B가 낸 값 입력: \"))\n",
        "if a-b ==1:\n",
        "  print(\"a가 이김\")\n",
        "elif a == b:\n",
        "  print(\"비김\")\n",
        "if b-a ==1:\n",
        "  print(\"b가 이김\")\n",
        "if a-b == 2:\n",
        "  print(\"b가 이김\")"
      ],
      "metadata": {
        "colab": {
          "base_uri": "https://localhost:8080/"
        },
        "id": "EH0RYCSkz7rZ",
        "outputId": "10e1d4fd-fdd0-428e-f520-527dc41b7df2"
      },
      "execution_count": 53,
      "outputs": [
        {
          "output_type": "stream",
          "name": "stdout",
          "text": [
            "A가 낸 값 입력: 3\n",
            "B가 낸 값 입력: 1\n",
            "b가 이김\n"
          ]
        }
      ]
    },
    {
      "cell_type": "code",
      "source": [],
      "metadata": {
        "id": "3JQLwJzryi-7"
      },
      "execution_count": 37,
      "outputs": []
    }
  ]
}